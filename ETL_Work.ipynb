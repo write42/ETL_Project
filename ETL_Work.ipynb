{
 "cells": [
  {
   "cell_type": "code",
   "execution_count": 1,
   "metadata": {},
   "outputs": [],
   "source": [
    "import pandas as pd\n",
    "import numpy as np\n",
    "import sqlalchemy\n",
    "import psycopg2\n",
    "from sqlalchemy import create_engine, func"
   ]
  },
  {
   "cell_type": "code",
   "execution_count": 2,
   "metadata": {},
   "outputs": [],
   "source": [
    "games = pd.read_csv(\"C:/Users/jadev/UCD/Homework/ETL_Project/video_games.txt\")\n",
    "meta = pd.read_csv(\"C:/Users/jadev/UCD/Homework/ETL_Project/archive.zip\")"
   ]
  },
  {
   "cell_type": "code",
   "execution_count": 3,
   "metadata": {},
   "outputs": [
    {
     "data": {
      "text/html": [
       "<div>\n",
       "<style scoped>\n",
       "    .dataframe tbody tr th:only-of-type {\n",
       "        vertical-align: middle;\n",
       "    }\n",
       "\n",
       "    .dataframe tbody tr th {\n",
       "        vertical-align: top;\n",
       "    }\n",
       "\n",
       "    .dataframe thead th {\n",
       "        text-align: right;\n",
       "    }\n",
       "</style>\n",
       "<table border=\"1\" class=\"dataframe\">\n",
       "  <thead>\n",
       "    <tr style=\"text-align: right;\">\n",
       "      <th></th>\n",
       "      <th>number</th>\n",
       "      <th>game</th>\n",
       "      <th>release_date</th>\n",
       "      <th>price</th>\n",
       "      <th>owners</th>\n",
       "      <th>developer</th>\n",
       "      <th>publisher</th>\n",
       "      <th>average_playtime</th>\n",
       "      <th>median_playtime</th>\n",
       "      <th>metascore</th>\n",
       "    </tr>\n",
       "  </thead>\n",
       "  <tbody>\n",
       "    <tr>\n",
       "      <th>0</th>\n",
       "      <td>1</td>\n",
       "      <td>Half-Life 2</td>\n",
       "      <td>Nov 16, 2004</td>\n",
       "      <td>9.99</td>\n",
       "      <td>10,000,000 .. 20,000,000</td>\n",
       "      <td>Valve</td>\n",
       "      <td>Valve</td>\n",
       "      <td>110.0</td>\n",
       "      <td>66.0</td>\n",
       "      <td>96.0</td>\n",
       "    </tr>\n",
       "    <tr>\n",
       "      <th>1</th>\n",
       "      <td>3</td>\n",
       "      <td>Counter-Strike: Source</td>\n",
       "      <td>Nov 1, 2004</td>\n",
       "      <td>9.99</td>\n",
       "      <td>10,000,000 .. 20,000,000</td>\n",
       "      <td>Valve</td>\n",
       "      <td>Valve</td>\n",
       "      <td>236.0</td>\n",
       "      <td>128.0</td>\n",
       "      <td>88.0</td>\n",
       "    </tr>\n",
       "    <tr>\n",
       "      <th>2</th>\n",
       "      <td>21</td>\n",
       "      <td>Counter-Strike: Condition Zero</td>\n",
       "      <td>Mar 1, 2004</td>\n",
       "      <td>9.99</td>\n",
       "      <td>10,000,000 .. 20,000,000</td>\n",
       "      <td>Valve</td>\n",
       "      <td>Valve</td>\n",
       "      <td>10.0</td>\n",
       "      <td>3.0</td>\n",
       "      <td>65.0</td>\n",
       "    </tr>\n",
       "    <tr>\n",
       "      <th>3</th>\n",
       "      <td>47</td>\n",
       "      <td>Half-Life 2: Deathmatch</td>\n",
       "      <td>Nov 1, 2004</td>\n",
       "      <td>4.99</td>\n",
       "      <td>5,000,000 .. 10,000,000</td>\n",
       "      <td>Valve</td>\n",
       "      <td>Valve</td>\n",
       "      <td>0.0</td>\n",
       "      <td>0.0</td>\n",
       "      <td>NaN</td>\n",
       "    </tr>\n",
       "    <tr>\n",
       "      <th>4</th>\n",
       "      <td>36</td>\n",
       "      <td>Half-Life: Source</td>\n",
       "      <td>Jun 1, 2004</td>\n",
       "      <td>9.99</td>\n",
       "      <td>2,000,000 .. 5,000,000</td>\n",
       "      <td>Valve</td>\n",
       "      <td>Valve</td>\n",
       "      <td>0.0</td>\n",
       "      <td>0.0</td>\n",
       "      <td>NaN</td>\n",
       "    </tr>\n",
       "  </tbody>\n",
       "</table>\n",
       "</div>"
      ],
      "text/plain": [
       "   number                            game  release_date  price  \\\n",
       "0       1                     Half-Life 2  Nov 16, 2004   9.99   \n",
       "1       3          Counter-Strike: Source   Nov 1, 2004   9.99   \n",
       "2      21  Counter-Strike: Condition Zero   Mar 1, 2004   9.99   \n",
       "3      47         Half-Life 2: Deathmatch   Nov 1, 2004   4.99   \n",
       "4      36               Half-Life: Source   Jun 1, 2004   9.99   \n",
       "\n",
       "                     owners developer publisher  average_playtime  \\\n",
       "0  10,000,000 .. 20,000,000     Valve     Valve             110.0   \n",
       "1  10,000,000 .. 20,000,000     Valve     Valve             236.0   \n",
       "2  10,000,000 .. 20,000,000     Valve     Valve              10.0   \n",
       "3   5,000,000 .. 10,000,000     Valve     Valve               0.0   \n",
       "4    2,000,000 .. 5,000,000     Valve     Valve               0.0   \n",
       "\n",
       "   median_playtime  metascore  \n",
       "0             66.0       96.0  \n",
       "1            128.0       88.0  \n",
       "2              3.0       65.0  \n",
       "3              0.0        NaN  \n",
       "4              0.0        NaN  "
      ]
     },
     "execution_count": 3,
     "metadata": {},
     "output_type": "execute_result"
    }
   ],
   "source": [
    "games.head()"
   ]
  },
  {
   "cell_type": "code",
   "execution_count": 4,
   "metadata": {},
   "outputs": [
    {
     "data": {
      "text/html": [
       "<div>\n",
       "<style scoped>\n",
       "    .dataframe tbody tr th:only-of-type {\n",
       "        vertical-align: middle;\n",
       "    }\n",
       "\n",
       "    .dataframe tbody tr th {\n",
       "        vertical-align: top;\n",
       "    }\n",
       "\n",
       "    .dataframe thead th {\n",
       "        text-align: right;\n",
       "    }\n",
       "</style>\n",
       "<table border=\"1\" class=\"dataframe\">\n",
       "  <thead>\n",
       "    <tr style=\"text-align: right;\">\n",
       "      <th></th>\n",
       "      <th>metascore</th>\n",
       "      <th>name</th>\n",
       "      <th>console</th>\n",
       "      <th>userscore</th>\n",
       "      <th>date</th>\n",
       "    </tr>\n",
       "  </thead>\n",
       "  <tbody>\n",
       "    <tr>\n",
       "      <th>0</th>\n",
       "      <td>97</td>\n",
       "      <td>Grand Theft Auto V</td>\n",
       "      <td>PS3</td>\n",
       "      <td>8.3</td>\n",
       "      <td>Sep 17, 2013</td>\n",
       "    </tr>\n",
       "    <tr>\n",
       "      <th>1</th>\n",
       "      <td>97</td>\n",
       "      <td>Grand Theft Auto V</td>\n",
       "      <td>X360</td>\n",
       "      <td>8.3</td>\n",
       "      <td>Sep 17, 2013</td>\n",
       "    </tr>\n",
       "    <tr>\n",
       "      <th>2</th>\n",
       "      <td>95</td>\n",
       "      <td>The Last of Us</td>\n",
       "      <td>PS3</td>\n",
       "      <td>9.2</td>\n",
       "      <td>Jun 14, 2013</td>\n",
       "    </tr>\n",
       "    <tr>\n",
       "      <th>3</th>\n",
       "      <td>94</td>\n",
       "      <td>BioShock Infinite</td>\n",
       "      <td>PS3</td>\n",
       "      <td>8.5</td>\n",
       "      <td>Mar 26, 2013</td>\n",
       "    </tr>\n",
       "    <tr>\n",
       "      <th>4</th>\n",
       "      <td>94</td>\n",
       "      <td>BioShock Infinite</td>\n",
       "      <td>PC</td>\n",
       "      <td>8.6</td>\n",
       "      <td>Mar 25, 2013</td>\n",
       "    </tr>\n",
       "  </tbody>\n",
       "</table>\n",
       "</div>"
      ],
      "text/plain": [
       "   metascore                name console userscore          date\n",
       "0         97  Grand Theft Auto V     PS3       8.3  Sep 17, 2013\n",
       "1         97  Grand Theft Auto V    X360       8.3  Sep 17, 2013\n",
       "2         95      The Last of Us     PS3       9.2  Jun 14, 2013\n",
       "3         94   BioShock Infinite     PS3       8.5  Mar 26, 2013\n",
       "4         94   BioShock Infinite      PC       8.6  Mar 25, 2013"
      ]
     },
     "execution_count": 4,
     "metadata": {},
     "output_type": "execute_result"
    }
   ],
   "source": [
    "meta.head()"
   ]
  },
  {
   "cell_type": "code",
   "execution_count": 5,
   "metadata": {},
   "outputs": [
    {
     "data": {
      "text/plain": [
       "number                int64\n",
       "game                 object\n",
       "release_date         object\n",
       "price               float64\n",
       "owners               object\n",
       "developer            object\n",
       "publisher            object\n",
       "average_playtime    float64\n",
       "median_playtime     float64\n",
       "metascore           float64\n",
       "dtype: object"
      ]
     },
     "execution_count": 5,
     "metadata": {},
     "output_type": "execute_result"
    }
   ],
   "source": [
    "games.dtypes"
   ]
  },
  {
   "cell_type": "code",
   "execution_count": 6,
   "metadata": {},
   "outputs": [
    {
     "data": {
      "text/plain": [
       "metascore     int64\n",
       "name         object\n",
       "console      object\n",
       "userscore    object\n",
       "date         object\n",
       "dtype: object"
      ]
     },
     "execution_count": 6,
     "metadata": {},
     "output_type": "execute_result"
    }
   ],
   "source": [
    "meta.dtypes"
   ]
  },
  {
   "cell_type": "code",
   "execution_count": 7,
   "metadata": {},
   "outputs": [],
   "source": [
    "meta['userscore'] = pd.to_numeric(meta['userscore'],errors='coerce')\n",
    "meta['date'] = pd.to_datetime(meta['date'])"
   ]
  },
  {
   "cell_type": "code",
   "execution_count": 8,
   "metadata": {},
   "outputs": [
    {
     "data": {
      "text/html": [
       "<div>\n",
       "<style scoped>\n",
       "    .dataframe tbody tr th:only-of-type {\n",
       "        vertical-align: middle;\n",
       "    }\n",
       "\n",
       "    .dataframe tbody tr th {\n",
       "        vertical-align: top;\n",
       "    }\n",
       "\n",
       "    .dataframe thead th {\n",
       "        text-align: right;\n",
       "    }\n",
       "</style>\n",
       "<table border=\"1\" class=\"dataframe\">\n",
       "  <thead>\n",
       "    <tr style=\"text-align: right;\">\n",
       "      <th></th>\n",
       "      <th>metascore</th>\n",
       "      <th>name</th>\n",
       "      <th>console</th>\n",
       "      <th>userscore</th>\n",
       "      <th>date</th>\n",
       "    </tr>\n",
       "  </thead>\n",
       "  <tbody>\n",
       "    <tr>\n",
       "      <th>0</th>\n",
       "      <td>97</td>\n",
       "      <td>Grand Theft Auto V</td>\n",
       "      <td>PS3</td>\n",
       "      <td>8.3</td>\n",
       "      <td>2013-09-17</td>\n",
       "    </tr>\n",
       "    <tr>\n",
       "      <th>1</th>\n",
       "      <td>97</td>\n",
       "      <td>Grand Theft Auto V</td>\n",
       "      <td>X360</td>\n",
       "      <td>8.3</td>\n",
       "      <td>2013-09-17</td>\n",
       "    </tr>\n",
       "    <tr>\n",
       "      <th>2</th>\n",
       "      <td>95</td>\n",
       "      <td>The Last of Us</td>\n",
       "      <td>PS3</td>\n",
       "      <td>9.2</td>\n",
       "      <td>2013-06-14</td>\n",
       "    </tr>\n",
       "    <tr>\n",
       "      <th>3</th>\n",
       "      <td>94</td>\n",
       "      <td>BioShock Infinite</td>\n",
       "      <td>PS3</td>\n",
       "      <td>8.5</td>\n",
       "      <td>2013-03-26</td>\n",
       "    </tr>\n",
       "    <tr>\n",
       "      <th>4</th>\n",
       "      <td>94</td>\n",
       "      <td>BioShock Infinite</td>\n",
       "      <td>PC</td>\n",
       "      <td>8.6</td>\n",
       "      <td>2013-03-25</td>\n",
       "    </tr>\n",
       "  </tbody>\n",
       "</table>\n",
       "</div>"
      ],
      "text/plain": [
       "   metascore                name console  userscore       date\n",
       "0         97  Grand Theft Auto V     PS3        8.3 2013-09-17\n",
       "1         97  Grand Theft Auto V    X360        8.3 2013-09-17\n",
       "2         95      The Last of Us     PS3        9.2 2013-06-14\n",
       "3         94   BioShock Infinite     PS3        8.5 2013-03-26\n",
       "4         94   BioShock Infinite      PC        8.6 2013-03-25"
      ]
     },
     "execution_count": 8,
     "metadata": {},
     "output_type": "execute_result"
    }
   ],
   "source": [
    "meta.head()"
   ]
  },
  {
   "cell_type": "code",
   "execution_count": 9,
   "metadata": {},
   "outputs": [],
   "source": [
    "games['release_date'] = pd.to_datetime(games['release_date'])"
   ]
  },
  {
   "cell_type": "code",
   "execution_count": 10,
   "metadata": {},
   "outputs": [
    {
     "data": {
      "text/html": [
       "<div>\n",
       "<style scoped>\n",
       "    .dataframe tbody tr th:only-of-type {\n",
       "        vertical-align: middle;\n",
       "    }\n",
       "\n",
       "    .dataframe tbody tr th {\n",
       "        vertical-align: top;\n",
       "    }\n",
       "\n",
       "    .dataframe thead th {\n",
       "        text-align: right;\n",
       "    }\n",
       "</style>\n",
       "<table border=\"1\" class=\"dataframe\">\n",
       "  <thead>\n",
       "    <tr style=\"text-align: right;\">\n",
       "      <th></th>\n",
       "      <th>number</th>\n",
       "      <th>game</th>\n",
       "      <th>release_date</th>\n",
       "      <th>price</th>\n",
       "      <th>owners</th>\n",
       "      <th>developer</th>\n",
       "      <th>publisher</th>\n",
       "      <th>average_playtime</th>\n",
       "      <th>median_playtime</th>\n",
       "      <th>metascore</th>\n",
       "    </tr>\n",
       "  </thead>\n",
       "  <tbody>\n",
       "    <tr>\n",
       "      <th>0</th>\n",
       "      <td>1</td>\n",
       "      <td>Half-Life 2</td>\n",
       "      <td>2004-11-16</td>\n",
       "      <td>9.99</td>\n",
       "      <td>10,000,000 .. 20,000,000</td>\n",
       "      <td>Valve</td>\n",
       "      <td>Valve</td>\n",
       "      <td>110.0</td>\n",
       "      <td>66.0</td>\n",
       "      <td>96.0</td>\n",
       "    </tr>\n",
       "    <tr>\n",
       "      <th>1</th>\n",
       "      <td>3</td>\n",
       "      <td>Counter-Strike: Source</td>\n",
       "      <td>2004-11-01</td>\n",
       "      <td>9.99</td>\n",
       "      <td>10,000,000 .. 20,000,000</td>\n",
       "      <td>Valve</td>\n",
       "      <td>Valve</td>\n",
       "      <td>236.0</td>\n",
       "      <td>128.0</td>\n",
       "      <td>88.0</td>\n",
       "    </tr>\n",
       "    <tr>\n",
       "      <th>2</th>\n",
       "      <td>21</td>\n",
       "      <td>Counter-Strike: Condition Zero</td>\n",
       "      <td>2004-03-01</td>\n",
       "      <td>9.99</td>\n",
       "      <td>10,000,000 .. 20,000,000</td>\n",
       "      <td>Valve</td>\n",
       "      <td>Valve</td>\n",
       "      <td>10.0</td>\n",
       "      <td>3.0</td>\n",
       "      <td>65.0</td>\n",
       "    </tr>\n",
       "    <tr>\n",
       "      <th>3</th>\n",
       "      <td>47</td>\n",
       "      <td>Half-Life 2: Deathmatch</td>\n",
       "      <td>2004-11-01</td>\n",
       "      <td>4.99</td>\n",
       "      <td>5,000,000 .. 10,000,000</td>\n",
       "      <td>Valve</td>\n",
       "      <td>Valve</td>\n",
       "      <td>0.0</td>\n",
       "      <td>0.0</td>\n",
       "      <td>NaN</td>\n",
       "    </tr>\n",
       "    <tr>\n",
       "      <th>4</th>\n",
       "      <td>36</td>\n",
       "      <td>Half-Life: Source</td>\n",
       "      <td>2004-06-01</td>\n",
       "      <td>9.99</td>\n",
       "      <td>2,000,000 .. 5,000,000</td>\n",
       "      <td>Valve</td>\n",
       "      <td>Valve</td>\n",
       "      <td>0.0</td>\n",
       "      <td>0.0</td>\n",
       "      <td>NaN</td>\n",
       "    </tr>\n",
       "  </tbody>\n",
       "</table>\n",
       "</div>"
      ],
      "text/plain": [
       "   number                            game release_date  price  \\\n",
       "0       1                     Half-Life 2   2004-11-16   9.99   \n",
       "1       3          Counter-Strike: Source   2004-11-01   9.99   \n",
       "2      21  Counter-Strike: Condition Zero   2004-03-01   9.99   \n",
       "3      47         Half-Life 2: Deathmatch   2004-11-01   4.99   \n",
       "4      36               Half-Life: Source   2004-06-01   9.99   \n",
       "\n",
       "                     owners developer publisher  average_playtime  \\\n",
       "0  10,000,000 .. 20,000,000     Valve     Valve             110.0   \n",
       "1  10,000,000 .. 20,000,000     Valve     Valve             236.0   \n",
       "2  10,000,000 .. 20,000,000     Valve     Valve              10.0   \n",
       "3   5,000,000 .. 10,000,000     Valve     Valve               0.0   \n",
       "4    2,000,000 .. 5,000,000     Valve     Valve               0.0   \n",
       "\n",
       "   median_playtime  metascore  \n",
       "0             66.0       96.0  \n",
       "1            128.0       88.0  \n",
       "2              3.0       65.0  \n",
       "3              0.0        NaN  \n",
       "4              0.0        NaN  "
      ]
     },
     "execution_count": 10,
     "metadata": {},
     "output_type": "execute_result"
    }
   ],
   "source": [
    "games.head()"
   ]
  },
  {
   "cell_type": "code",
   "execution_count": 11,
   "metadata": {},
   "outputs": [],
   "source": [
    "meta_game = meta.rename(columns={'name':'game'})"
   ]
  },
  {
   "cell_type": "code",
   "execution_count": 12,
   "metadata": {},
   "outputs": [
    {
     "data": {
      "text/plain": [
       "metascore             int64\n",
       "game                 object\n",
       "console              object\n",
       "userscore           float64\n",
       "date         datetime64[ns]\n",
       "dtype: object"
      ]
     },
     "execution_count": 12,
     "metadata": {},
     "output_type": "execute_result"
    }
   ],
   "source": [
    "meta_game.dtypes"
   ]
  },
  {
   "cell_type": "code",
   "execution_count": 13,
   "metadata": {},
   "outputs": [
    {
     "data": {
      "text/plain": [
       "number                       int64\n",
       "game                        object\n",
       "release_date        datetime64[ns]\n",
       "price                      float64\n",
       "owners                      object\n",
       "developer                   object\n",
       "publisher                   object\n",
       "average_playtime           float64\n",
       "median_playtime            float64\n",
       "metascore                  float64\n",
       "dtype: object"
      ]
     },
     "execution_count": 13,
     "metadata": {},
     "output_type": "execute_result"
    }
   ],
   "source": [
    "games.dtypes"
   ]
  },
  {
   "cell_type": "code",
   "execution_count": 14,
   "metadata": {},
   "outputs": [],
   "source": [
    "games_clean = games[games['metascore'].notna()]\n",
    "games_clean_dup = games_clean.drop_duplicates(subset=['game'])\n",
    "games_no_null = games_clean_dup.dropna(subset=['game'])"
   ]
  },
  {
   "cell_type": "code",
   "execution_count": 15,
   "metadata": {},
   "outputs": [
    {
     "data": {
      "text/html": [
       "<div>\n",
       "<style scoped>\n",
       "    .dataframe tbody tr th:only-of-type {\n",
       "        vertical-align: middle;\n",
       "    }\n",
       "\n",
       "    .dataframe tbody tr th {\n",
       "        vertical-align: top;\n",
       "    }\n",
       "\n",
       "    .dataframe thead th {\n",
       "        text-align: right;\n",
       "    }\n",
       "</style>\n",
       "<table border=\"1\" class=\"dataframe\">\n",
       "  <thead>\n",
       "    <tr style=\"text-align: right;\">\n",
       "      <th></th>\n",
       "      <th>metascore</th>\n",
       "      <th>game</th>\n",
       "      <th>console</th>\n",
       "      <th>userscore</th>\n",
       "      <th>date</th>\n",
       "    </tr>\n",
       "  </thead>\n",
       "  <tbody>\n",
       "    <tr>\n",
       "      <th>20</th>\n",
       "      <td>88</td>\n",
       "      <td>Spelunky</td>\n",
       "      <td>VITA</td>\n",
       "      <td>7.9</td>\n",
       "      <td>2013-08-27</td>\n",
       "    </tr>\n",
       "    <tr>\n",
       "      <th>33</th>\n",
       "      <td>87</td>\n",
       "      <td>Guacamelee!</td>\n",
       "      <td>VITA</td>\n",
       "      <td>8.3</td>\n",
       "      <td>2013-04-09</td>\n",
       "    </tr>\n",
       "    <tr>\n",
       "      <th>36</th>\n",
       "      <td>87</td>\n",
       "      <td>Rayman Legends</td>\n",
       "      <td>VITA</td>\n",
       "      <td>8.4</td>\n",
       "      <td>2013-09-03</td>\n",
       "    </tr>\n",
       "    <tr>\n",
       "      <th>37</th>\n",
       "      <td>87</td>\n",
       "      <td>Tearaway</td>\n",
       "      <td>VITA</td>\n",
       "      <td>8.9</td>\n",
       "      <td>2013-11-22</td>\n",
       "    </tr>\n",
       "    <tr>\n",
       "      <th>46</th>\n",
       "      <td>87</td>\n",
       "      <td>Velocity Ultra</td>\n",
       "      <td>VITA</td>\n",
       "      <td>7.9</td>\n",
       "      <td>2013-07-02</td>\n",
       "    </tr>\n",
       "    <tr>\n",
       "      <th>...</th>\n",
       "      <td>...</td>\n",
       "      <td>...</td>\n",
       "      <td>...</td>\n",
       "      <td>...</td>\n",
       "      <td>...</td>\n",
       "    </tr>\n",
       "    <tr>\n",
       "      <th>14302</th>\n",
       "      <td>63</td>\n",
       "      <td>Operation Babel: New Tokyo Legacy</td>\n",
       "      <td>VITA</td>\n",
       "      <td>4.0</td>\n",
       "      <td>2017-05-16</td>\n",
       "    </tr>\n",
       "    <tr>\n",
       "      <th>14477</th>\n",
       "      <td>55</td>\n",
       "      <td>A.W.: Phoenix Festa</td>\n",
       "      <td>VITA</td>\n",
       "      <td>4.5</td>\n",
       "      <td>2016-07-26</td>\n",
       "    </tr>\n",
       "    <tr>\n",
       "      <th>15308</th>\n",
       "      <td>58</td>\n",
       "      <td>The Caligula Effect</td>\n",
       "      <td>VITA</td>\n",
       "      <td>7.0</td>\n",
       "      <td>2017-05-02</td>\n",
       "    </tr>\n",
       "    <tr>\n",
       "      <th>15637</th>\n",
       "      <td>39</td>\n",
       "      <td>Drive Girls</td>\n",
       "      <td>VITA</td>\n",
       "      <td>5.5</td>\n",
       "      <td>2017-09-08</td>\n",
       "    </tr>\n",
       "    <tr>\n",
       "      <th>15644</th>\n",
       "      <td>36</td>\n",
       "      <td>Tokyo Tattoo Girls</td>\n",
       "      <td>VITA</td>\n",
       "      <td>5.4</td>\n",
       "      <td>2017-11-14</td>\n",
       "    </tr>\n",
       "  </tbody>\n",
       "</table>\n",
       "<p>255 rows × 5 columns</p>\n",
       "</div>"
      ],
      "text/plain": [
       "       metascore                               game console  userscore  \\\n",
       "20            88                           Spelunky    VITA        7.9   \n",
       "33            87                        Guacamelee!    VITA        8.3   \n",
       "36            87                     Rayman Legends    VITA        8.4   \n",
       "37            87                           Tearaway    VITA        8.9   \n",
       "46            87                     Velocity Ultra    VITA        7.9   \n",
       "...          ...                                ...     ...        ...   \n",
       "14302         63  Operation Babel: New Tokyo Legacy    VITA        4.0   \n",
       "14477         55                A.W.: Phoenix Festa    VITA        4.5   \n",
       "15308         58                The Caligula Effect    VITA        7.0   \n",
       "15637         39                        Drive Girls    VITA        5.5   \n",
       "15644         36                 Tokyo Tattoo Girls    VITA        5.4   \n",
       "\n",
       "            date  \n",
       "20    2013-08-27  \n",
       "33    2013-04-09  \n",
       "36    2013-09-03  \n",
       "37    2013-11-22  \n",
       "46    2013-07-02  \n",
       "...          ...  \n",
       "14302 2017-05-16  \n",
       "14477 2016-07-26  \n",
       "15308 2017-05-02  \n",
       "15637 2017-09-08  \n",
       "15644 2017-11-14  \n",
       "\n",
       "[255 rows x 5 columns]"
      ]
     },
     "execution_count": 15,
     "metadata": {},
     "output_type": "execute_result"
    }
   ],
   "source": [
    "#I'm looking to buy a PSVita and would like to find the best ones to purchase\n",
    "meta_ps = meta_game[(meta_game.console=='VITA')]\n",
    "meta_ps"
   ]
  },
  {
   "cell_type": "code",
   "execution_count": 16,
   "metadata": {},
   "outputs": [],
   "source": [
    "connection_string = 'postgres:class_time@localhost:5432/etl-challenge'\n",
    "engine = create_engine(f'postgresql://{connection_string}')"
   ]
  },
  {
   "cell_type": "code",
   "execution_count": 17,
   "metadata": {},
   "outputs": [
    {
     "data": {
      "text/plain": [
       "['games', 'meta_game']"
      ]
     },
     "execution_count": 17,
     "metadata": {},
     "output_type": "execute_result"
    }
   ],
   "source": [
    "engine.table_names()"
   ]
  },
  {
   "cell_type": "code",
   "execution_count": 18,
   "metadata": {},
   "outputs": [],
   "source": [
    "games_no_null.to_sql(name='games', con = engine, if_exists = 'append',index=False)"
   ]
  },
  {
   "cell_type": "code",
   "execution_count": 19,
   "metadata": {},
   "outputs": [],
   "source": [
    "meta_ps.to_sql(name='meta_game', con = engine, if_exists = 'append',index=False)"
   ]
  },
  {
   "cell_type": "code",
   "execution_count": null,
   "metadata": {},
   "outputs": [],
   "source": []
  },
  {
   "cell_type": "code",
   "execution_count": null,
   "metadata": {},
   "outputs": [],
   "source": []
  }
 ],
 "metadata": {
  "kernelspec": {
   "display_name": "Python 3",
   "language": "python",
   "name": "python3"
  },
  "language_info": {
   "codemirror_mode": {
    "name": "ipython",
    "version": 3
   },
   "file_extension": ".py",
   "mimetype": "text/x-python",
   "name": "python",
   "nbconvert_exporter": "python",
   "pygments_lexer": "ipython3",
   "version": "3.8.5"
  }
 },
 "nbformat": 4,
 "nbformat_minor": 4
}
